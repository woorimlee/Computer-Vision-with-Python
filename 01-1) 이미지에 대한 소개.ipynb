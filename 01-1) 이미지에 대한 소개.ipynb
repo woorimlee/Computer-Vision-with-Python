{
 "cells": [
  {
   "cell_type": "markdown",
   "metadata": {},
   "source": [
    "# 01장. 이미지 처리에 대한 소개\n",
    "### 1. 이미지\n",
    "+ __픽셀(pixel)__이라 불리는 것으로 구성된 2차원 격차. \n",
    "    + 각 셀은 공식적으로는 화소라고 불린다. \n",
    "+ 컴퓨터에서 영상은 2차원 행렬이며, 행렬의 각 셀은 이미지의 해당 픽셀 값을 저장하고 있다.\n",
    "+ 이미지 처리의 핵심은 \n",
    "  \n",
    "  1) 색\n",
    "  \n",
    "  2) 픽셀 간의 상호 관계\n",
    "  \n",
    "  3) 물체 배치\n",
    "  \n",
    "  4) 에지, 물체, 윤곽선 등 이미지 특징\n",
    "  \n",
    "  등의 정보를 추출하는 것이다.\n",
    "\n",
    "### 2. 이미지 처리 라이브러리\n",
    "+ 책에서는 __scikit-image__와 __Pillow__를 사용한다.\n",
    "  \n",
    "  **1) Pillow 사용법**"
   ]
  },
  {
   "cell_type": "code",
   "execution_count": 14,
   "metadata": {},
   "outputs": [],
   "source": [
    "#이미지 읽기\n",
    "#Pillow의 이미지 모듈은 jpg | png 파일 이미지를 읽기 위해 open() 함수를 제공.\n",
    "\n",
    "from PIL import Image\n",
    "\n",
    "#이 함수는 픽셀 유형, 이미지 크기, 이미지 형식과 같은 정보가 들어있는 이미지 객체를 반환한다.\n",
    "img = Image.open(\"./test_image/원본 포비.jpg\")\n",
    "\n",
    "#화면에 이미지를 표시하기 위해 다음과 같이 show() 함수를 사용한다.\n",
    "img.show()"
   ]
  },
  {
   "cell_type": "code",
   "execution_count": 16,
   "metadata": {},
   "outputs": [],
   "source": [
    "#이미지 쓰기/저장\n",
    "#이미지를 컴퓨터의 파일에 쓰거나 저장하려면 이미지 객체의 save() 함수를 사용한다.\n",
    "\n",
    "#상대 경로를 사용함\n",
    "img.save(\"./test_image/temp_pobi.png\")\n",
    "\n",
    "#절대 경로를 사용함\n",
    "img.save(\"/Temp/temp_pobi.png\")"
   ]
  },
  {
   "cell_type": "code",
   "execution_count": 10,
   "metadata": {},
   "outputs": [],
   "source": [
    "#이미지 자르기\n",
    "#원본 이미지에서 작은 특정 영역을 추출하는 방법으로, 관심 영역(ROI, Region of Interest)을 설정하는 것이다.\n",
    "#ROI는 해당 영역에서만 특정 알고리즘을 실행하려는 경우 유용하다.\n",
    "\n",
    "#왼쪽 위 꼭지점과 오른쪽 아래 꼭지점 튜플값 설정\n",
    "dim = (10, 10, 110, 50)\n",
    "#crop에 좌표계를 넘기고, 잘려진 이미지를 반환받음.\n",
    "crop_img = img.crop(dim)\n",
    "crop_img.show()"
   ]
  },
  {
   "cell_type": "markdown",
   "metadata": {},
   "source": [
    "#####   \n",
    "\n",
    "**2) 색상 공간 변경**\n",
    "  + 색상 공간 및 채널은 여러 좌표계를 이용한다. 2-D 직교 평면과 2-D 극좌표에서 점은 (x, y) 또는 (r,  θ)로 저장된다.\n",
    "  + 이와 비슷하게 이미지 처리에서도 여러 색상 공간들이 있다.\n",
    "    + 이미지의 색상 값은 __RGB__나 __CMYK__(Cyan(사이언), Magenta(마젠타), Yellow(노랑), Key(검정)), __HSV__(Hue(색상), Saturation(채도), Value(명도)) 등의 형태가 있다.\n",
    "    + 색상 공간의 각 값은 색상 채널이라고 한다. 예를 들어 RGB color space에서 Red, Green, Blue 각각은 이미지 채널이다.\n",
    "  + 이미지에서 볼 수 있는 색상은 color space의 각 채널에 있는 색상이 혼합된 값이다.\n",
    "  + __GrayScale__ : 컴퓨터에 저장하는 측면에서 가장 간단한 color space 중 하나. 그레이스케일 이미지의 각 픽셀 값은 0과 255 사이에 있는 하나의 값이며, 0은 검은색 ~ 255는 흰색을 나타낸다. \n",
    "    + 255 값은 고정 값은 아니고, 이미지의 깊이에 따라서 달라진다.\n",
    "    + 그레이스케일 이미지를 흑백 이미지라고도 하지만, 흑백 이미지에서 픽셀 값은 0 혹은 255만을 가지고 사잇값이 없기 때문에 전적으로 옳은 표현은 아니다.\n",
    "  + __RGB__ : 가장 널리 사용되는 color space. 각 픽셀은 세 가지 채널 값(R, G, B)의 조합. \n",
    "    + 흰색은 (255, 255, 255), 검은색은 (0, 0, 0), Red는 (255, 0, 0), Green은 (0, 255, 0), Blue는 (0, 0, 255) 로 표현된다.\n",
    "  + __HSV__ : RGB 값을 원통에 투영하는 원통형 좌표계다.\n",
    "    + RGB 공간에서는 색이 어떻게 진행되는지를 파악하는 것이 직관적이지 않았고, 그 문제를 해결한 color space다.\n",
    "  + 그레이스케일 이미지의 픽셀 값을 출력하면 하나의 값만 얻지만, RGB 이미지의 픽셀 값을 출력하면 세 개의 값을 얻는다.\n",
    "  + 이는 그레이스케일은 한 개, RGB가 세 개의 채널을 갖고 있기 때문이다.\n",
    "    + 그레이스케일 이미지는 한 개의 2D 행렬, RGB는 세 개의 2D 행렬을 갖는다."
   ]
  },
  {
   "cell_type": "code",
   "execution_count": 13,
   "metadata": {},
   "outputs": [
    {
     "name": "stdout",
     "output_type": "stream",
     "text": [
      "(255, 255, 255)\n",
      "255\n"
     ]
    }
   ],
   "source": [
    "#RGB 이미지의 픽셀 값 출력\n",
    "print(img.getpixel((10, 10)))\n",
    "\n",
    "#Grayscale 이미지의 픽셀 값 출력\n",
    "print(img.convert(\"L\").getpixel((10,10)))"
   ]
  },
  {
   "cell_type": "markdown",
   "metadata": {},
   "source": [
    "#####    \n",
    "**3) 이미지 깊이**\n",
    "  + 이미지 깊이 또는 색상 깊이는 픽셀의 __색을 나타내는 데 사용되는 비트 수__다. \n",
    "    + 예를 들어 4비트인 이미지의 경우 픽셀 값은 0 ~ 15까지의 값을 갖는다. 반면에 8비트를 사용한다면, 0 ~ 255까지의 범위를 가지므로 더 미세한 컬러 스펙트럼을 제공할 수 있게 된다.\n",
    "  + 이미지 모듈의 변환 함수를 사용해 이미지를 A color space에서 B color space로 바꿀 수 있다."
   ]
  },
  {
   "cell_type": "code",
   "execution_count": 15,
   "metadata": {},
   "outputs": [],
   "source": [
    "#grayscale 이미지로 변환하는 함수\n",
    "grayscale = img.convert(\"L\")\n",
    "grayscale.show()"
   ]
  },
  {
   "cell_type": "markdown",
   "metadata": {},
   "source": [
    "#####  \n",
    "**4) 기하학적 변환**\n",
    "  + 이미지에 대해 크기 변환, 회전, 뒤집기와 같은 여러 유형의 변환을 수행해야 하는 경우, 아래와 같은 함수를 사용한다.\n",
    " "
   ]
  },
  {
   "cell_type": "code",
   "execution_count": 18,
   "metadata": {},
   "outputs": [],
   "source": [
    "#크기 변환\n",
    "resize_img = img.resize((200, 200))\n",
    "resize_img.show()\n",
    "\n",
    "#회전\n",
    "rotate_img = img.rotate(-90)\n",
    "rotate_img.show()"
   ]
  },
  {
   "cell_type": "markdown",
   "metadata": {},
   "source": [
    "#####   \n",
    "**5) 이미지 향상**\n",
    "  + 이미지 향상으로는 대비, 밝기, 색상 밸런스, 선명도 변경과 같은 작업이 포함된다.\n",
    "  + Pillow에서는 이런 작업을 수행하기 위한 모듈로 ImageEnhance를 제공한다.\n",
    "    + enhance() 함수는 float형 인자를 입력으로 받는다. 이 인자의 값은 이미지의 밝기나 대비를 변경하는 값이다. \n",
    "      + 1 : 원래 이미지\n",
    "      + x < 1 : x 만큼 밝기나 대비 감소\n",
    "      + x > 1 : x 만큼 밝기나 대비 증가"
   ]
  },
  {
   "cell_type": "code",
   "execution_count": 4,
   "metadata": {},
   "outputs": [],
   "source": [
    "from PIL import ImageEnhance as IE\n",
    "\n",
    "#이미지 밝기 변경\n",
    "enhancer_1 = IE.Brightness(img)\n",
    "enhancer_1.enhance(2).show()\n",
    "\n",
    "#이미지 대비 변경\n",
    "enhancer_2 = IE.Contrast(img)\n",
    "enhancer_2.enhance(2).show()\n"
   ]
  },
  {
   "cell_type": "markdown",
   "metadata": {},
   "source": [
    "#####    \n",
    "**6) 이미지의 픽셀에 접근하기**\n",
    "  + 임계치 조정 같은 작업을 할 시 이미지의 개별 픽셀에 접근해야 한다. \n",
    "  + Pillow의 PixelAccess 클래스에서 이와 관련된 함수를 제공한다.\n",
    "    + getpixel() : (x, y) 좌표에 있는 픽셀의 색상 값을 반환.\n",
    "    + putpixel() : (x, y) 좌표에 있느 픽셀의 색상 값을 새로운 색상으로 변경한다."
   ]
  },
  {
   "cell_type": "code",
   "execution_count": 11,
   "metadata": {},
   "outputs": [],
   "source": [
    "for i in range(10) : \n",
    "    for j in range(10) :\n",
    "        img.putpixel((i+10, j+20), (20, 150, 30))\n",
    "    \n",
    "img.show()"
   ]
  },
  {
   "cell_type": "code",
   "execution_count": null,
   "metadata": {},
   "outputs": [],
   "source": []
  }
 ],
 "metadata": {
  "kernelspec": {
   "display_name": "Python 3",
   "language": "python",
   "name": "python3"
  },
  "language_info": {
   "codemirror_mode": {
    "name": "ipython",
    "version": 3
   },
   "file_extension": ".py",
   "mimetype": "text/x-python",
   "name": "python",
   "nbconvert_exporter": "python",
   "pygments_lexer": "ipython3",
   "version": "3.6.4"
  }
 },
 "nbformat": 4,
 "nbformat_minor": 2
}
